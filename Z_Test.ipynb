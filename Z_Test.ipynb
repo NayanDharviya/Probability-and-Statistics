{
  "nbformat": 4,
  "nbformat_minor": 0,
  "metadata": {
    "colab": {
      "provenance": []
    },
    "kernelspec": {
      "name": "python3",
      "display_name": "Python 3"
    },
    "language_info": {
      "name": "python"
    }
  },
  "cells": [
    {
      "cell_type": "code",
      "source": [],
      "metadata": {
        "id": "Tdjx5AHWSAri"
      },
      "execution_count": null,
      "outputs": []
    },
    {
      "cell_type": "markdown",
      "source": [
        "- If a P-Value is greater then alpha(significance value), we accept H0 i.e null hypothesis\n",
        "- If a P-Value is less then alpha(significance value),we reject H0 i.e null hypothesis\n",
        "-"
      ],
      "metadata": {
        "id": "28-Az4UkSCx-"
      }
    },
    {
      "cell_type": "markdown",
      "source": [
        "- Q-1 :- A country has a population average height of 65 inches with standard deviation of 2.5. A person feels people from his state are shorter. He takes the average of 20 people, and sees that it is 64.5. At a 5% significance level (or 95% confidence level), can we conclude that people from his state are shorter, using the Z-test? What is the p-value?\n",
        "\n",
        "- Solution:-\n",
        "  - Given,\n",
        "  - H0 - Null hypothesis = people are not shorter\n",
        "  - H1 = Alternate Hyothesis - people are shorter\n",
        "      - mu(population mean) = 65\n",
        "      - std_dev = 2.5\n",
        "      -alpha = 0.05\n",
        "      - x(sample mean) = 64.5\n",
        "      - n(sample) = 20\n",
        "\n",
        "    - To calculate the Z-value we first have to calculate standard_error\n",
        "      - standard_error = std_dev / sqrt(n)\n",
        "    - z_value = (x - mu)/(standard_error)\n",
        "    - p_value  = check the probability value in z_table\n",
        "      or norm.cdf(z_value)\n",
        "\n",
        "\n"
      ],
      "metadata": {
        "id": "pY3wI-_GRXH7"
      }
    },
    {
      "cell_type": "code",
      "source": [
        "import numpy as np\n",
        "from scipy.stats import norm\n",
        "\n",
        "mu = 65\n",
        "alpha = 0.05\n",
        "x=64.5\n",
        "std_dev = 2.5\n",
        "n=20\n",
        "\n",
        "standard_error = std_dev / np.sqrt(n)\n",
        "z_score = (x-mu)/(standard_error)\n",
        "p_value = norm.cdf(z_score)\n",
        "p_value\n",
        "\n",
        "if p_value < alpha:\n",
        "  print(f\"we reject null hypothesis, p-value = {p_value}, and hence people from the state are shorter\")\n",
        "else:\n",
        "  print(f\"we accept null hypothesis, p-value = {p_value}, and hence people from the state are shorter\")\n"
      ],
      "metadata": {
        "colab": {
          "base_uri": "https://localhost:8080/"
        },
        "id": "d3pLR4k3Rex6",
        "outputId": "14722528-997b-413f-f782-827d73a61dbe"
      },
      "execution_count": 7,
      "outputs": [
        {
          "output_type": "stream",
          "name": "stdout",
          "text": [
            "we accept null hypothesis, p-value = 0.18554668476134878, and hence people from the state are shorter\n"
          ]
        }
      ]
    },
    {
      "cell_type": "code",
      "source": [],
      "metadata": {
        "id": "RtOXK-p6UHhY"
      },
      "execution_count": 7,
      "outputs": []
    },
    {
      "cell_type": "markdown",
      "source": [
        "- Q-2 The verbal reasoning in GRE has an average score of 150, and a standard deviation of 8.5. A coaching center claims that their students are better. An average of 10 people showed that the students from this coaching center have an average of 155. At a 5% significance level (or 95% confidence level), can we conclude that students from the coaching center are better? Use the Z-test, and compute the p-value.\n"
      ],
      "metadata": {
        "id": "0gl47YZPUu87"
      }
    },
    {
      "cell_type": "code",
      "source": [
        "# Solution of Q-2\n",
        "# given,\n",
        "# h0 = students are same as pervious or not better\n",
        "# h1 = student are better\n",
        "mu = 150\n",
        "std_dev = 8.5\n",
        "alpha = 0.05\n",
        "n = 10\n",
        "x = 155\n",
        "\n",
        "standard_error = std_dev / np.sqrt(n)\n",
        "z_score = (x-mu)/standard_error\n",
        "p_value = 1-norm.cdf(z_score)\n",
        "\n",
        "if p_value < alpha:\n",
        "  print(f\"we reject null hypothesis, p-value = {p_value}, and hence student are better\")\n",
        "else:\n",
        "  print(f\"we accept null hypothesis, p-value = {p_value}, and hence students are same as pervious or not better\")\n"
      ],
      "metadata": {
        "colab": {
          "base_uri": "https://localhost:8080/"
        },
        "id": "wqSukH_-Uzpe",
        "outputId": "b20b0dcf-465b-4e52-fa13-24986d93559e"
      },
      "execution_count": 10,
      "outputs": [
        {
          "output_type": "stream",
          "name": "stdout",
          "text": [
            "we reject null hypothesis, p-value = 0.031431210741779014, and hence student are better\n"
          ]
        }
      ]
    },
    {
      "cell_type": "code",
      "source": [],
      "metadata": {
        "id": "AQVHU5IcWPZG"
      },
      "execution_count": null,
      "outputs": []
    }
  ]
}