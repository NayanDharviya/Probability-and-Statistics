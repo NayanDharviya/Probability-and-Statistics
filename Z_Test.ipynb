{
  "nbformat": 4,
  "nbformat_minor": 0,
  "metadata": {
    "colab": {
      "provenance": []
    },
    "kernelspec": {
      "name": "python3",
      "display_name": "Python 3"
    },
    "language_info": {
      "name": "python"
    }
  },
  "cells": [
    {
      "cell_type": "code",
      "source": [
        "import numpy as np\n",
        "from scipy.stats import norm"
      ],
      "metadata": {
        "id": "Tdjx5AHWSAri"
      },
      "execution_count": 2,
      "outputs": []
    },
    {
      "cell_type": "markdown",
      "source": [
        "- If a P-Value is greater then alpha(significance value), we accept H0 i.e null hypothesis\n",
        "- If a P-Value is less then alpha(significance value),we reject H0 i.e null hypothesis\n",
        "-"
      ],
      "metadata": {
        "id": "28-Az4UkSCx-"
      }
    },
    {
      "cell_type": "markdown",
      "source": [
        "- Q-1 :- A country has a population average height of 65 inches with standard deviation of 2.5. A person feels people from his state are shorter. He takes the average of 20 people, and sees that it is 64.5. At a 5% significance level (or 95% confidence level), can we conclude that people from his state are shorter, using the Z-test? What is the p-value?\n",
        "\n",
        "- Solution:-\n",
        "  - Given,\n",
        "  - H0 - Null hypothesis = people are not shorter\n",
        "  - H1 = Alternate Hyothesis - people are shorter\n",
        "      - mu(population mean) = 65\n",
        "      - std_dev = 2.5\n",
        "      -alpha = 0.05\n",
        "      - x(sample mean) = 64.5\n",
        "      - n(sample) = 20\n",
        "\n",
        "    - To calculate the Z-value we first have to calculate standard_error\n",
        "      - standard_error = std_dev / sqrt(n)\n",
        "    - z_value = (x - mu)/(standard_error)\n",
        "    - p_value  = check the probability value in z_table\n",
        "      or norm.cdf(z_value)\n",
        "\n",
        "\n"
      ],
      "metadata": {
        "id": "pY3wI-_GRXH7"
      }
    },
    {
      "cell_type": "code",
      "source": [
        "import numpy as np\n",
        "from scipy.stats import norm\n",
        "\n",
        "mu = 65\n",
        "alpha = 0.05\n",
        "x=64.5\n",
        "std_dev = 2.5\n",
        "n=20\n",
        "\n",
        "standard_error = std_dev / np.sqrt(n)\n",
        "z_score = (x-mu)/(standard_error)\n",
        "p_value = norm.cdf(z_score)\n",
        "p_value\n",
        "\n",
        "if p_value < alpha:\n",
        "  print(f\"we reject null hypothesis, p-value = {p_value}, and hence people from the state are shorter\")\n",
        "else:\n",
        "  print(f\"we accept null hypothesis, p-value = {p_value}, and hence people from the state are shorter\")\n"
      ],
      "metadata": {
        "colab": {
          "base_uri": "https://localhost:8080/"
        },
        "id": "d3pLR4k3Rex6",
        "outputId": "14722528-997b-413f-f782-827d73a61dbe"
      },
      "execution_count": 7,
      "outputs": [
        {
          "output_type": "stream",
          "name": "stdout",
          "text": [
            "we accept null hypothesis, p-value = 0.18554668476134878, and hence people from the state are shorter\n"
          ]
        }
      ]
    },
    {
      "cell_type": "code",
      "source": [],
      "metadata": {
        "id": "RtOXK-p6UHhY"
      },
      "execution_count": 7,
      "outputs": []
    },
    {
      "cell_type": "markdown",
      "source": [
        "- Q-2 The verbal reasoning in GRE has an average score of 150, and a standard deviation of 8.5. A coaching center claims that their students are better. An average of 10 people showed that the students from this coaching center have an average of 155. At a 5% significance level (or 95% confidence level), can we conclude that students from the coaching center are better? Use the Z-test, and compute the p-value.\n"
      ],
      "metadata": {
        "id": "0gl47YZPUu87"
      }
    },
    {
      "cell_type": "code",
      "source": [
        "# Solution of Q-2\n",
        "# given,\n",
        "# h0 = students are same as pervious or not better\n",
        "# h1 = student are better\n",
        "mu = 150\n",
        "std_dev = 8.5\n",
        "alpha = 0.05\n",
        "n = 10\n",
        "x = 155\n",
        "\n",
        "standard_error = std_dev / np.sqrt(n)\n",
        "z_score = (x-mu)/standard_error\n",
        "p_value = 1-norm.cdf(z_score)\n",
        "\n",
        "if p_value < alpha:\n",
        "  print(f\"we reject null hypothesis, p-value = {p_value}, and hence student are better\")\n",
        "else:\n",
        "  print(f\"we accept null hypothesis, p-value = {p_value}, and hence students are same as pervious or not better\")\n"
      ],
      "metadata": {
        "colab": {
          "base_uri": "https://localhost:8080/"
        },
        "id": "wqSukH_-Uzpe",
        "outputId": "b20b0dcf-465b-4e52-fa13-24986d93559e"
      },
      "execution_count": 10,
      "outputs": [
        {
          "output_type": "stream",
          "name": "stdout",
          "text": [
            "we reject null hypothesis, p-value = 0.031431210741779014, and hence student are better\n"
          ]
        }
      ]
    },
    {
      "cell_type": "markdown",
      "source": [
        "- Q-3 A french cake shop claims that the average number of pastries they can produce in a day exceeds 500.\n",
        "\n",
        "The average number of pastries produced per day over a 70 day period was found to be 530. Assume that the population standard deviation for the pastries produced per day is 125.\n",
        "\n",
        "Test the claim using a z-test with the critical z-value = 1.64 at the alpha (significance level) = 0.05, and state your interpretation.\n",
        "\n",
        "Note: Round off the z-score to two decimal places.\n",
        "\n",
        "- ### Solution:- Q3\n",
        "- #### Given,\n",
        "- #### H0 = mu <= 500 i.e. average number of pastries can produce in a day is = less then or equal to 500\n",
        "-#### H1 = mu > 500 i.e  average number of pastries they can produce in a day exceeds 500\n",
        "- #### n = 70\n",
        "- #### sample_mean(x) = 530\n",
        "- #### mu = 500\n",
        "- #### std_dev = 125"
      ],
      "metadata": {
        "id": "to1AAuDw0eF4"
      }
    },
    {
      "cell_type": "code",
      "source": [
        "# Solution:- Q3\n",
        "# Given,\n",
        "# H0 = mu <= 500 i.e. average number of pastries can produce in a day is less then or equal to 500\n",
        "# H1 = mu > 500 i.e  average number of pastries they can produce in a day exceeds 500\n",
        "n = 70\n",
        "x = 530\n",
        "mu = 500\n",
        "std_dev = 125\n",
        "alpha = 0.05\n",
        "\n",
        "standard_error = std_dev/np.sqrt(n)\n",
        "z_score = (x-mu)/standard_error\n",
        "z_score = round(z_score,2)\n",
        "print(z_score)\n",
        "p_value = 1-norm.cdf(z_score)\n",
        "\n",
        "\n",
        "if p_value < alpha:\n",
        "  print(f\"we reject null hypothesis, p-value = {p_value}, and hence average number of pastries can produce in a day is less then or equal to 500 \")\n",
        "else:\n",
        "  print(f\"we accept null hypothesis, p-value = {p_value}, and hence average number of pastries they can produce in a day exceeds 500\")\n"
      ],
      "metadata": {
        "colab": {
          "base_uri": "https://localhost:8080/"
        },
        "id": "AQVHU5IcWPZG",
        "outputId": "08a87f7b-7a72-48de-ba39-59a08e3e6a33"
      },
      "execution_count": 10,
      "outputs": [
        {
          "output_type": "stream",
          "name": "stdout",
          "text": [
            "2.01\n",
            "we reject null hypothesis, p-value = 0.02221559442943144, and hence average number of pastries can produce in a day is less then or equal to 500 \n"
          ]
        }
      ]
    },
    {
      "cell_type": "code",
      "source": [
        "1-norm.cdf(1.64)"
      ],
      "metadata": {
        "colab": {
          "base_uri": "https://localhost:8080/"
        },
        "id": "Zm6UG8QH2G7g",
        "outputId": "dee94c21-93d5-4fab-f30a-86aa248664aa"
      },
      "execution_count": 14,
      "outputs": [
        {
          "output_type": "execute_result",
          "data": {
            "text/plain": [
              "0.050502583474103746"
            ]
          },
          "metadata": {},
          "execution_count": 14
        }
      ]
    },
    {
      "cell_type": "code",
      "source": [
        "# Q4- The following information is given: n = 36x= 24.6σ= 12 𝐇𝐇𝟎𝟎 :𝛍𝛍 ≤ 𝟐𝟐𝟎𝟎 𝐇𝐇𝛂𝛂 :𝛍𝛍>𝟐𝟐𝟎𝟎 Calculate the test statistic. Solution\n",
        "n = 36\n",
        "x= 24.6\n",
        "std_dev= 12\n",
        "mu=20\n",
        "alpha = 0.05\n",
        "# 𝐇𝐇𝟎𝟎 :𝛍𝛍 ≤ 𝟐𝟐𝟎𝟎\n",
        "# 𝐇𝐇𝛂𝛂 :𝛍𝛍>𝟐𝟐𝟎𝟎\n",
        "standard_error = std_dev/np.sqrt(n)\n",
        "z_score = (x-mu) / standard_error\n",
        "p_value = 1-norm.cdf(z_score)\n",
        "print(z_score, p_value)\n",
        "\n",
        "\n",
        "if p_value < alpha:\n",
        "  print(f\"we reject null hypothesis, p-value = {p_value}\")\n",
        "else:\n",
        "  print(f\"we accept null hypothesis, p-value = {p_value}\")\n"
      ],
      "metadata": {
        "colab": {
          "base_uri": "https://localhost:8080/"
        },
        "id": "0CuM4K9onN9U",
        "outputId": "cc810f2d-b744-43bc-f344-9e186a355f5a"
      },
      "execution_count": 16,
      "outputs": [
        {
          "output_type": "stream",
          "name": "stdout",
          "text": [
            "2.3000000000000007 0.010724110021675726\n",
            "we reject null hypothesis, p-value = 0.010724110021675726\n"
          ]
        }
      ]
    },
    {
      "cell_type": "code",
      "source": [],
      "metadata": {
        "id": "NdC3x-PInN51"
      },
      "execution_count": null,
      "outputs": []
    },
    {
      "cell_type": "markdown",
      "source": [
        "- Q5 The manager of a grocery store has taken a random sample of 100 customers. The average length of time it took the customers in the sample to check out was 2.9 minutes with a standard deviation of 0.5 minutes. We want to determine whether or not the mean waiting time of all customers is significantly less than 3 minutes.Use α = .05.\n",
        "\n",
        "- given\n",
        "  - n = 100\n",
        "  - mu = 2.9\n",
        "  - std_dev = 0.5\n",
        "  - x = 3"
      ],
      "metadata": {
        "id": "lUCfsuTyoQ4i"
      }
    },
    {
      "cell_type": "code",
      "source": [
        "# Solution Q5\n",
        "# h0 = mean waiting time is same M>3\n",
        "# h1= mean waiting time is less M<3\n",
        "n =100\n",
        "mu = 3\n",
        "std_dev = 0.5\n",
        "x = 2.9\n",
        "alpha = .05\n",
        "\n",
        "std_error = (std_dev/np.sqrt(n))\n",
        "# print(std_error)\n",
        "z_score = (x-mu)/std_error\n",
        "# print(z_score)\n",
        "p_value = norm.cdf(z_score)\n",
        "z_score, p_value\n",
        "\n",
        "\n",
        "if p_value < alpha:\n",
        "  print(f\"we reject null hypothesis, p-value = {p_value}, mean waiting time is less than 3\")\n",
        "else:\n",
        "  print(f\"we accept null hypothesis, p-value = {p_value}  mean waiting time is equal to 3\")\n"
      ],
      "metadata": {
        "colab": {
          "base_uri": "https://localhost:8080/"
        },
        "id": "XN20zsIVnN3K",
        "outputId": "d500a3c4-7c50-4e6b-ce42-00d5e9ba37e8"
      },
      "execution_count": 31,
      "outputs": [
        {
          "output_type": "stream",
          "name": "stdout",
          "text": [
            "we reject null hypothesis, p-value = 0.0227501319481791, mean waiting time is less than 3\n"
          ]
        }
      ]
    },
    {
      "cell_type": "markdown",
      "source": [
        "- Q6- A random sample of 16 students selected from the student body of a large university had an average age of 25 years and a standard deviation of 2 years. We want to determine if the average age of all the students at the university is significantly more than 24. Assume the distribution of the population of ages is normal. Use α = .01. (Hint: Develop the null and the alternative hypotheses, calculate the test statistic, determine the critical value(s) and conclusion)"
      ],
      "metadata": {
        "id": "N-V_zFkDyDNz"
      }
    },
    {
      "cell_type": "code",
      "source": [
        "# Solution Q6\n",
        "# Given,\n",
        "# h0 = m=24\n",
        "# h1 = m>24\n",
        "n = 16\n",
        "std_dev = 2\n",
        "mu = 24\n",
        "x = 25\n",
        "alpha = 0.01\n",
        "\n",
        "std_error= (std_dev/np.sqrt(n))\n",
        "z_score = (x-mu)/std_error\n",
        "p_value = 1-norm.cdf(z_score)\n",
        "\n",
        "z_score, p_value\n",
        "\n",
        "\n",
        "if p_value < alpha:\n",
        "  print(f\"we reject null hypothesis, p-value = {p_value}, average age is greater than 24\")\n",
        "else:\n",
        "  print(f\"we accept null hypothesis, p-value = {p_value}  average age is less than or equal to 24\")\n"
      ],
      "metadata": {
        "colab": {
          "base_uri": "https://localhost:8080/"
        },
        "id": "h7zon2UAnNxV",
        "outputId": "3e702eb7-3773-4637-f24d-9e810c409be3"
      },
      "execution_count": 34,
      "outputs": [
        {
          "output_type": "stream",
          "name": "stdout",
          "text": [
            "we accept null hypothesis, p-value = 0.02275013194817921  average age is less than or equal to 24\n"
          ]
        }
      ]
    },
    {
      "cell_type": "markdown",
      "source": [
        "- Q7 -\n",
        "A random sample of 16 statistics examinations from a large population was taken. The average score in the sample was 78.6. The variance of the population is 64. We are interested in determining whether the average grade of the population is different than 75. Assume the distribution of the population of grades is normal. Use α = .05. (Hint: Develop the null and the alternative hypotheses, calculate the test statistic, determine the critical value(s) and conclusion)"
      ],
      "metadata": {
        "id": "Hzi36eqjTTCY"
      }
    },
    {
      "cell_type": "code",
      "source": [
        "# Solution Q7:-\n",
        "# Given,\n",
        "\n",
        "# H0 : Avg grade of population is same M=75\n",
        "# H1 : Avg grade of population is different M != 75\n",
        "\n",
        "n=16\n",
        "x=78.6\n",
        "std_dev=64\n",
        "Mu = 75\n",
        "alpha = 0.05\n",
        "std_err = std_dev/np.sqrt(n)\n",
        "z_score = (x-Mu)/std_err\n",
        "p_value = norm.cdf(z_score)\n",
        "\n",
        "z_score, p_value\n",
        "\n",
        "\n",
        "if p_value < alpha:\n",
        "  print(f\"we reject null hypothesis, p-value = {p_value}, Avg grade of population is different\")\n",
        "else:\n",
        "  print(f\"we accept null hypothesis, p-value = {p_value}  Avg grade of population is same\")\n"
      ],
      "metadata": {
        "colab": {
          "base_uri": "https://localhost:8080/"
        },
        "id": "VpPW1OD9nNu3",
        "outputId": "3ea6bc7c-8569-46de-f993-a7ede695cdf0"
      },
      "execution_count": 5,
      "outputs": [
        {
          "output_type": "stream",
          "name": "stdout",
          "text": [
            "we accept null hypothesis, p-value = 0.5890103628687295  Avg grade of population is same\n"
          ]
        }
      ]
    }
  ]
}